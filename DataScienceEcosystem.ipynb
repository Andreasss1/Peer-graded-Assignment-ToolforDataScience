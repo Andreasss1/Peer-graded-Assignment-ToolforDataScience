{
 "cells": [
  {
   "cell_type": "markdown",
   "id": "60f52278",
   "metadata": {},
   "source": [
    "# Data Science Tools and Ecosystem"
   ]
  },
  {
   "cell_type": "markdown",
   "id": "05692c2b",
   "metadata": {},
   "source": [
    "In this notebook, Data Science Tools and Ecosystem are summarized."
   ]
  },
  {
   "cell_type": "markdown",
   "id": "1eeecdfb",
   "metadata": {},
   "source": [
    "Some of the popular languages that Data Scientists use are:\n",
    "\n",
    "1. Python\n",
    "2. R\n",
    "3. SQL"
   ]
  },
  {
   "cell_type": "markdown",
   "id": "05381a88",
   "metadata": {},
   "source": [
    "Some of the commonly used libraries used by Data Scientists include:\n",
    "\n",
    "1. Numpy\n",
    "2. Scikit-Learn\n",
    "3. Keras"
   ]
  },
  {
   "cell_type": "markdown",
   "id": "fd4548ce",
   "metadata": {},
   "source": [
    "| Data Science Tools |\n",
    "| :----------------: |\n",
    "|   Jupyter Notebook |\n",
    "|       NodeRED      |\n",
    "|       GitHub       |\n"
   ]
  },
  {
   "cell_type": "markdown",
   "id": "2df40443",
   "metadata": {},
   "source": [
    "### Below are a few examples of evaluating arithmetic expressions in Python"
   ]
  },
  {
   "cell_type": "code",
   "execution_count": 2,
   "id": "0f3039a1",
   "metadata": {},
   "outputs": [
    {
     "data": {
      "text/plain": [
       "17"
      ]
     },
     "execution_count": 2,
     "metadata": {},
     "output_type": "execute_result"
    }
   ],
   "source": [
    "#This a simple arithmetic expression to mutiply then add integers\n",
    "(3*4)+5"
   ]
  },
  {
   "cell_type": "code",
   "execution_count": 8,
   "id": "add62a77",
   "metadata": {},
   "outputs": [
    {
     "name": "stdout",
     "output_type": "stream",
     "text": [
      "3.33\n"
     ]
    }
   ],
   "source": [
    "# This will convert 200 minutes to hours by diving by 60\n",
    "time_on_minutes = 200 \n",
    "converts_to_hour = time_on_minutes / 60\n",
    "result = round(converts_to_hour, 2)\n",
    "print(result)"
   ]
  },
  {
   "cell_type": "markdown",
   "id": "c66b7cbf",
   "metadata": {},
   "source": [
    "**Objectives:**\n",
    "\n",
    "- List popular languages for Data Science.\n",
    "- Explain the purpose of Jupyter Notebook.\n",
    "- Describe the key features of JupyterLab."
   ]
  },
  {
   "cell_type": "markdown",
   "id": "2499c1cd",
   "metadata": {},
   "source": [
    "## Author\n",
    "Andreas Malem Sebayang"
   ]
  },
  {
   "cell_type": "code",
   "execution_count": null,
   "id": "96008d18",
   "metadata": {},
   "outputs": [],
   "source": []
  }
 ],
 "metadata": {
  "kernelspec": {
   "display_name": "Python 3 (ipykernel)",
   "language": "python",
   "name": "python3"
  },
  "language_info": {
   "codemirror_mode": {
    "name": "ipython",
    "version": 3
   },
   "file_extension": ".py",
   "mimetype": "text/x-python",
   "name": "python",
   "nbconvert_exporter": "python",
   "pygments_lexer": "ipython3",
   "version": "3.9.13"
  }
 },
 "nbformat": 4,
 "nbformat_minor": 5
}
